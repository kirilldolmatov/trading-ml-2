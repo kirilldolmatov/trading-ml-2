{
 "cells": [
  {
   "cell_type": "code",
   "execution_count": 1,
   "id": "0fb002f3-7ccd-4751-b904-daa8a99a1572",
   "metadata": {},
   "outputs": [],
   "source": [
    "from selenium import webdriver\n",
    "from selenium.webdriver.common.by import By\n",
    "from selenium.webdriver.support.ui import WebDriverWait\n",
    "from selenium.webdriver.support import expected_conditions as EC\n",
    "\n",
    "import pandas as pd"
   ]
  },
  {
   "cell_type": "code",
   "execution_count": 2,
   "id": "b7b8020e-dd03-47d8-8919-3c11a2442e61",
   "metadata": {},
   "outputs": [],
   "source": [
    "from tqdm import tqdm \n",
    "import pickle"
   ]
  },
  {
   "cell_type": "markdown",
   "id": "0cfe5861-1fbe-4647-ab80-6e7a36fdd876",
   "metadata": {},
   "source": [
    "# CODE"
   ]
  },
  {
   "cell_type": "code",
   "execution_count": 3,
   "id": "0ea2efb2-c50a-43cc-8253-cf50d2c00919",
   "metadata": {},
   "outputs": [],
   "source": [
    "class Article:\n",
    "    def __init__(self, elem) -> None:\n",
    "        self.link = elem.get_attribute('href')\n",
    "        span_elems = elem.find_elements(By.TAG_NAME, 'span')\n",
    "        self.date = span_elems[0].text\n",
    "        self.author = span_elems[1].text if len(span_elems) > 1 else ''\n",
    "        self.text = ''\n",
    "        self.title = ''\n",
    "\n",
    "class FinamNewsParser:\n",
    "    def __init__(self) -> None:\n",
    "        user_agent = 'Mozilla/5.0 (X11; Linux x86_64) AppleWebKit/537.36 (KHTML, like Gecko) Chrome/60.0.3112.50 Safari/537.36'\n",
    "\n",
    "        options = webdriver.ChromeOptions()\n",
    "        options.add_argument('headless')\n",
    "        options.add_argument(f'user-agent={user_agent}')\n",
    "\n",
    "        self.driver = webdriver.Chrome(options=options)\n",
    "        \n",
    "    def collect_news(self, ticker, start = None, end = None, maxCount = None):\n",
    "        template_url = 'https://www.finam.ru/quote/moex/{}/publications/'\n",
    "        url = template_url.format(ticker)\n",
    "    \n",
    "        if not start or not end:\n",
    "            self.driver.get(url)\n",
    "        else:\n",
    "            url +=  \"{}/{}/{}\".format('date',  start, end)\n",
    "            self.driver.get(url)\n",
    "            stop = False\n",
    "            #кликаем кнопочку \"Загрузить еще\", пока не получим все новости за период\n",
    "            while not stop:\n",
    "                try:\n",
    "                    WebDriverWait(self.driver, 20).until(EC.element_to_be_clickable((By.XPATH, '//span[(starts-with(@class, \"pointer\")) and (contains(@class, \"cl-blue\"))]')))\n",
    "                    self.driver.execute_script(\"finfin.local.plugin_block_item_publication_list_filter_date.loadMore(this);\")\n",
    "                except:\n",
    "                    stop = True\n",
    "\n",
    "        print(\"Getting news from:  {}\".format(url))\n",
    "        links_section = self.driver.find_element(By.ID, 'finfin-local-plugin-block-item-publication-list-filter-date-content')\n",
    "        a_elems = links_section.find_elements(By.TAG_NAME, 'a')\n",
    "\n",
    "        articles = list(map(lambda elem: Article(elem), a_elems))\n",
    "\n",
    "        for id, article in enumerate(articles):\n",
    "            if maxCount is not None and id == maxCount:\n",
    "                return articles[:maxCount]\n",
    "    \n",
    "            self.driver.get(article.link)\n",
    "            try:\n",
    "                title_section = self.driver.find_element(By.TAG_NAME, 'h1')\n",
    "                article.title = title_section.text\n",
    "\n",
    "                text_section = self.driver.find_element(\n",
    "                    By.XPATH, \n",
    "                    '//div[(starts-with(@class, \"finfin-local-plugin-publication-item-item-\")) and (contains(@class, \"-text\"))]'\n",
    "                )\n",
    "                \n",
    "                p_elems = text_section.find_elements(By.TAG_NAME, 'p')\n",
    "                p_elems_text = list(map(lambda elem: elem.text, p_elems))\n",
    "\n",
    "                if len(p_elems_text):\n",
    "                    article.text = ' '.join(p_elems_text)\n",
    "            except:\n",
    "                # print('Couldnt parse article from href: {}'.format(article.link))\n",
    "                pass\n",
    "        \n",
    "        return articles"
   ]
  },
  {
   "cell_type": "markdown",
   "id": "ba7246e4-ab50-4c06-b13f-02f79e5b534c",
   "metadata": {},
   "source": [
    "# Сбор новостей"
   ]
  },
  {
   "cell_type": "code",
   "execution_count": 4,
   "id": "003301f0-b912-4781-b97d-addcb5a30fc0",
   "metadata": {
    "scrolled": true
   },
   "outputs": [],
   "source": [
    "# %%time \n",
    "\n",
    "# parser = FinamNewsParser()\n",
    "# news = parser.collect_news('sber', start='2022-12-01', end='2023-12-01')"
   ]
  },
  {
   "cell_type": "code",
   "execution_count": 5,
   "id": "786bab9f-86bd-4050-b323-fde760fa606c",
   "metadata": {},
   "outputs": [],
   "source": [
    "# len(news)"
   ]
  },
  {
   "cell_type": "code",
   "execution_count": 6,
   "id": "a83e1bfa-9806-4f6c-b11d-91349bfd9534",
   "metadata": {},
   "outputs": [
    {
     "data": {
      "text/html": [
       "<div>\n",
       "<style scoped>\n",
       "    .dataframe tbody tr th:only-of-type {\n",
       "        vertical-align: middle;\n",
       "    }\n",
       "\n",
       "    .dataframe tbody tr th {\n",
       "        vertical-align: top;\n",
       "    }\n",
       "\n",
       "    .dataframe thead th {\n",
       "        text-align: right;\n",
       "    }\n",
       "</style>\n",
       "<table border=\"1\" class=\"dataframe\">\n",
       "  <thead>\n",
       "    <tr style=\"text-align: right;\">\n",
       "      <th></th>\n",
       "      <th>ticker</th>\n",
       "      <th>file</th>\n",
       "    </tr>\n",
       "  </thead>\n",
       "  <tbody>\n",
       "    <tr>\n",
       "      <th>0</th>\n",
       "      <td>ABIO</td>\n",
       "      <td>ABIO_from_2022_12_20_to_2023_12_20.csv</td>\n",
       "    </tr>\n",
       "    <tr>\n",
       "      <th>1</th>\n",
       "      <td>ABRD</td>\n",
       "      <td>ABRD_from_2022_12_20_to_2023_12_20.csv</td>\n",
       "    </tr>\n",
       "    <tr>\n",
       "      <th>2</th>\n",
       "      <td>AFKS</td>\n",
       "      <td>AFKS_from_2022_12_20_to_2023_12_20.csv</td>\n",
       "    </tr>\n",
       "    <tr>\n",
       "      <th>3</th>\n",
       "      <td>AFLT</td>\n",
       "      <td>AFLT_from_2022_12_20_to_2023_12_20.csv</td>\n",
       "    </tr>\n",
       "    <tr>\n",
       "      <th>4</th>\n",
       "      <td>AGRO</td>\n",
       "      <td>AGRO_from_2022_12_20_to_2023_12_20.csv</td>\n",
       "    </tr>\n",
       "    <tr>\n",
       "      <th>5</th>\n",
       "      <td>AKRN</td>\n",
       "      <td>AKRN_from_2022_12_20_to_2023_12_20.csv</td>\n",
       "    </tr>\n",
       "    <tr>\n",
       "      <th>6</th>\n",
       "      <td>ALRS</td>\n",
       "      <td>ALRS_from_2022_12_20_to_2023_12_20.csv</td>\n",
       "    </tr>\n",
       "    <tr>\n",
       "      <th>7</th>\n",
       "      <td>AMEZ</td>\n",
       "      <td>AMEZ_from_2022_12_20_to_2023_12_20.csv</td>\n",
       "    </tr>\n",
       "    <tr>\n",
       "      <th>8</th>\n",
       "      <td>APTK</td>\n",
       "      <td>APTK_from_2022_12_20_to_2023_12_20.csv</td>\n",
       "    </tr>\n",
       "    <tr>\n",
       "      <th>9</th>\n",
       "      <td>AQUA</td>\n",
       "      <td>AQUA_from_2022_12_20_to_2023_12_20.csv</td>\n",
       "    </tr>\n",
       "    <tr>\n",
       "      <th>10</th>\n",
       "      <td>ARSA</td>\n",
       "      <td>ARSA_from_2022_12_20_to_2023_12_20.csv</td>\n",
       "    </tr>\n",
       "    <tr>\n",
       "      <th>11</th>\n",
       "      <td>ASSB</td>\n",
       "      <td>ASSB_from_2022_12_20_to_2023_12_20.csv</td>\n",
       "    </tr>\n",
       "    <tr>\n",
       "      <th>12</th>\n",
       "      <td>AVAN</td>\n",
       "      <td>AVAN_from_2022_12_20_to_2023_12_20.csv</td>\n",
       "    </tr>\n",
       "    <tr>\n",
       "      <th>13</th>\n",
       "      <td>BANEP</td>\n",
       "      <td>BANEP_from_2022_12_20_to_2023_12_20.csv</td>\n",
       "    </tr>\n",
       "    <tr>\n",
       "      <th>14</th>\n",
       "      <td>BANE</td>\n",
       "      <td>BANE_from_2022_12_20_to_2023_12_20.csv</td>\n",
       "    </tr>\n",
       "    <tr>\n",
       "      <th>15</th>\n",
       "      <td>BELU</td>\n",
       "      <td>BELU_from_2022_12_20_to_2023_12_20.csv</td>\n",
       "    </tr>\n",
       "    <tr>\n",
       "      <th>16</th>\n",
       "      <td>BISVP</td>\n",
       "      <td>BISVP_from_2022_12_20_to_2023_12_20.csv</td>\n",
       "    </tr>\n",
       "    <tr>\n",
       "      <th>17</th>\n",
       "      <td>BLNG</td>\n",
       "      <td>BLNG_from_2022_12_20_to_2023_12_20.csv</td>\n",
       "    </tr>\n",
       "    <tr>\n",
       "      <th>18</th>\n",
       "      <td>BRZL</td>\n",
       "      <td>BRZL_from_2022_12_20_to_2023_12_20.csv</td>\n",
       "    </tr>\n",
       "    <tr>\n",
       "      <th>19</th>\n",
       "      <td>BSPBP</td>\n",
       "      <td>BSPBP_from_2022_12_20_to_2023_12_20.csv</td>\n",
       "    </tr>\n",
       "    <tr>\n",
       "      <th>20</th>\n",
       "      <td>BSPB</td>\n",
       "      <td>BSPB_from_2022_12_20_to_2023_12_20.csv</td>\n",
       "    </tr>\n",
       "    <tr>\n",
       "      <th>21</th>\n",
       "      <td>CBOM</td>\n",
       "      <td>CBOM_from_2022_12_20_to_2023_12_20.csv</td>\n",
       "    </tr>\n",
       "    <tr>\n",
       "      <th>22</th>\n",
       "      <td>CHGZ</td>\n",
       "      <td>CHGZ_from_2022_12_20_to_2023_12_20.csv</td>\n",
       "    </tr>\n",
       "    <tr>\n",
       "      <th>23</th>\n",
       "      <td>CHKZ</td>\n",
       "      <td>CHKZ_from_2022_12_20_to_2023_12_20.csv</td>\n",
       "    </tr>\n",
       "    <tr>\n",
       "      <th>24</th>\n",
       "      <td>CHMF</td>\n",
       "      <td>CHMF_from_2022_12_20_to_2023_12_20.csv</td>\n",
       "    </tr>\n",
       "    <tr>\n",
       "      <th>25</th>\n",
       "      <td>CHMK</td>\n",
       "      <td>CHMK_from_2022_12_20_to_2023_12_20.csv</td>\n",
       "    </tr>\n",
       "    <tr>\n",
       "      <th>26</th>\n",
       "      <td>CIAN</td>\n",
       "      <td>CIAN_from_2022_12_20_to_2023_12_20.csv</td>\n",
       "    </tr>\n",
       "    <tr>\n",
       "      <th>27</th>\n",
       "      <td>CNTLP</td>\n",
       "      <td>CNTLP_from_2022_12_20_to_2023_12_20.csv</td>\n",
       "    </tr>\n",
       "    <tr>\n",
       "      <th>28</th>\n",
       "      <td>CNTL</td>\n",
       "      <td>CNTL_from_2022_12_20_to_2023_12_20.csv</td>\n",
       "    </tr>\n",
       "    <tr>\n",
       "      <th>29</th>\n",
       "      <td>DIOD</td>\n",
       "      <td>DIOD_from_2022_12_20_to_2023_12_20.csv</td>\n",
       "    </tr>\n",
       "    <tr>\n",
       "      <th>30</th>\n",
       "      <td>DSKY</td>\n",
       "      <td>DSKY_from_2022_12_20_to_2023_12_20.csv</td>\n",
       "    </tr>\n",
       "    <tr>\n",
       "      <th>31</th>\n",
       "      <td>DVEC</td>\n",
       "      <td>DVEC_from_2022_12_20_to_2023_12_20.csv</td>\n",
       "    </tr>\n",
       "    <tr>\n",
       "      <th>32</th>\n",
       "      <td>DZRDP</td>\n",
       "      <td>DZRDP_from_2022_12_20_to_2023_12_20.csv</td>\n",
       "    </tr>\n",
       "    <tr>\n",
       "      <th>33</th>\n",
       "      <td>DZRD</td>\n",
       "      <td>DZRD_from_2022_12_20_to_2023_12_20.csv</td>\n",
       "    </tr>\n",
       "    <tr>\n",
       "      <th>34</th>\n",
       "      <td>EELT</td>\n",
       "      <td>EELT_from_2022_12_20_to_2023_12_20.csv</td>\n",
       "    </tr>\n",
       "    <tr>\n",
       "      <th>35</th>\n",
       "      <td>ELFV</td>\n",
       "      <td>ELFV_from_2022_12_20_to_2023_12_20.csv</td>\n",
       "    </tr>\n",
       "    <tr>\n",
       "      <th>36</th>\n",
       "      <td>ENPG</td>\n",
       "      <td>ENPG_from_2022_12_20_to_2023_12_20.csv</td>\n",
       "    </tr>\n",
       "    <tr>\n",
       "      <th>37</th>\n",
       "      <td>ETLN</td>\n",
       "      <td>ETLN_from_2022_12_20_to_2023_12_20.csv</td>\n",
       "    </tr>\n",
       "    <tr>\n",
       "      <th>38</th>\n",
       "      <td>FEES</td>\n",
       "      <td>FEES_from_2022_12_20_to_2023_12_20.csv</td>\n",
       "    </tr>\n",
       "    <tr>\n",
       "      <th>39</th>\n",
       "      <td>FESH</td>\n",
       "      <td>FESH_from_2022_12_20_to_2023_12_20.csv</td>\n",
       "    </tr>\n",
       "  </tbody>\n",
       "</table>\n",
       "</div>"
      ],
      "text/plain": [
       "   ticker                                     file\n",
       "0    ABIO   ABIO_from_2022_12_20_to_2023_12_20.csv\n",
       "1    ABRD   ABRD_from_2022_12_20_to_2023_12_20.csv\n",
       "2    AFKS   AFKS_from_2022_12_20_to_2023_12_20.csv\n",
       "3    AFLT   AFLT_from_2022_12_20_to_2023_12_20.csv\n",
       "4    AGRO   AGRO_from_2022_12_20_to_2023_12_20.csv\n",
       "5    AKRN   AKRN_from_2022_12_20_to_2023_12_20.csv\n",
       "6    ALRS   ALRS_from_2022_12_20_to_2023_12_20.csv\n",
       "7    AMEZ   AMEZ_from_2022_12_20_to_2023_12_20.csv\n",
       "8    APTK   APTK_from_2022_12_20_to_2023_12_20.csv\n",
       "9    AQUA   AQUA_from_2022_12_20_to_2023_12_20.csv\n",
       "10   ARSA   ARSA_from_2022_12_20_to_2023_12_20.csv\n",
       "11   ASSB   ASSB_from_2022_12_20_to_2023_12_20.csv\n",
       "12   AVAN   AVAN_from_2022_12_20_to_2023_12_20.csv\n",
       "13  BANEP  BANEP_from_2022_12_20_to_2023_12_20.csv\n",
       "14   BANE   BANE_from_2022_12_20_to_2023_12_20.csv\n",
       "15   BELU   BELU_from_2022_12_20_to_2023_12_20.csv\n",
       "16  BISVP  BISVP_from_2022_12_20_to_2023_12_20.csv\n",
       "17   BLNG   BLNG_from_2022_12_20_to_2023_12_20.csv\n",
       "18   BRZL   BRZL_from_2022_12_20_to_2023_12_20.csv\n",
       "19  BSPBP  BSPBP_from_2022_12_20_to_2023_12_20.csv\n",
       "20   BSPB   BSPB_from_2022_12_20_to_2023_12_20.csv\n",
       "21   CBOM   CBOM_from_2022_12_20_to_2023_12_20.csv\n",
       "22   CHGZ   CHGZ_from_2022_12_20_to_2023_12_20.csv\n",
       "23   CHKZ   CHKZ_from_2022_12_20_to_2023_12_20.csv\n",
       "24   CHMF   CHMF_from_2022_12_20_to_2023_12_20.csv\n",
       "25   CHMK   CHMK_from_2022_12_20_to_2023_12_20.csv\n",
       "26   CIAN   CIAN_from_2022_12_20_to_2023_12_20.csv\n",
       "27  CNTLP  CNTLP_from_2022_12_20_to_2023_12_20.csv\n",
       "28   CNTL   CNTL_from_2022_12_20_to_2023_12_20.csv\n",
       "29   DIOD   DIOD_from_2022_12_20_to_2023_12_20.csv\n",
       "30   DSKY   DSKY_from_2022_12_20_to_2023_12_20.csv\n",
       "31   DVEC   DVEC_from_2022_12_20_to_2023_12_20.csv\n",
       "32  DZRDP  DZRDP_from_2022_12_20_to_2023_12_20.csv\n",
       "33   DZRD   DZRD_from_2022_12_20_to_2023_12_20.csv\n",
       "34   EELT   EELT_from_2022_12_20_to_2023_12_20.csv\n",
       "35   ELFV   ELFV_from_2022_12_20_to_2023_12_20.csv\n",
       "36   ENPG   ENPG_from_2022_12_20_to_2023_12_20.csv\n",
       "37   ETLN   ETLN_from_2022_12_20_to_2023_12_20.csv\n",
       "38   FEES   FEES_from_2022_12_20_to_2023_12_20.csv\n",
       "39   FESH   FESH_from_2022_12_20_to_2023_12_20.csv"
      ]
     },
     "execution_count": 6,
     "metadata": {},
     "output_type": "execute_result"
    }
   ],
   "source": [
    "df_files = pd.read_parquet('tickers_files.parquet')\n",
    "df_files.head(40)"
   ]
  },
  {
   "cell_type": "code",
   "execution_count": null,
   "id": "41c164ce-5385-41ef-b599-cede8b642017",
   "metadata": {},
   "outputs": [
    {
     "name": "stderr",
     "output_type": "stream",
     "text": [
      "  0%|                                                                                          | 0/200 [00:00<?, ?it/s]"
     ]
    },
    {
     "name": "stdout",
     "output_type": "stream",
     "text": [
      "Getting news from:  https://www.finam.ru/quote/moex/dsky/publications/date/2022-12-01/2023-12-01\n"
     ]
    },
    {
     "name": "stderr",
     "output_type": "stream",
     "text": [
      "  0%|▍                                                                             | 1/200 [06:15<20:46:56, 375.96s/it]"
     ]
    },
    {
     "name": "stdout",
     "output_type": "stream",
     "text": [
      "Getting news from:  https://www.finam.ru/quote/moex/dvec/publications/date/2022-12-01/2023-12-01\n"
     ]
    },
    {
     "name": "stderr",
     "output_type": "stream",
     "text": [
      "  1%|▊                                                                              | 2/200 [06:57<9:50:39, 178.99s/it]"
     ]
    },
    {
     "name": "stdout",
     "output_type": "stream",
     "text": [
      "Getting news from:  https://www.finam.ru/quote/moex/dzrdp/publications/date/2022-12-01/2023-12-01\n"
     ]
    },
    {
     "name": "stderr",
     "output_type": "stream",
     "text": [
      "  2%|█▏                                                                             | 3/200 [07:27<6:04:28, 111.01s/it]"
     ]
    },
    {
     "name": "stdout",
     "output_type": "stream",
     "text": [
      "Getting news from:  https://www.finam.ru/quote/moex/dzrd/publications/date/2022-12-01/2023-12-01\n"
     ]
    },
    {
     "name": "stderr",
     "output_type": "stream",
     "text": [
      "  2%|█▌                                                                              | 4/200 [07:56<4:17:50, 78.93s/it]"
     ]
    },
    {
     "name": "stdout",
     "output_type": "stream",
     "text": [
      "Getting news from:  https://www.finam.ru/quote/moex/eelt/publications/date/2022-12-01/2023-12-01\n"
     ]
    },
    {
     "name": "stderr",
     "output_type": "stream",
     "text": [
      "  2%|██                                                                              | 5/200 [08:41<3:35:51, 66.42s/it]"
     ]
    },
    {
     "name": "stdout",
     "output_type": "stream",
     "text": [
      "Getting news from:  https://www.finam.ru/quote/moex/elfv/publications/date/2022-12-01/2023-12-01\n"
     ]
    },
    {
     "name": "stderr",
     "output_type": "stream",
     "text": [
      "  3%|██▍                                                                             | 6/200 [09:19<3:04:16, 56.99s/it]"
     ]
    },
    {
     "name": "stdout",
     "output_type": "stream",
     "text": [
      "Getting news from:  https://www.finam.ru/quote/moex/enpg/publications/date/2022-12-01/2023-12-01\n"
     ]
    },
    {
     "name": "stderr",
     "output_type": "stream",
     "text": [
      "  4%|██▊                                                                             | 7/200 [10:47<3:36:01, 67.16s/it]"
     ]
    },
    {
     "name": "stdout",
     "output_type": "stream",
     "text": [
      "Getting news from:  https://www.finam.ru/quote/moex/etln/publications/date/2022-12-01/2023-12-01\n"
     ]
    },
    {
     "name": "stderr",
     "output_type": "stream",
     "text": [
      "  4%|███▏                                                                           | 8/200 [13:42<5:24:09, 101.30s/it]"
     ]
    },
    {
     "name": "stdout",
     "output_type": "stream",
     "text": [
      "Getting news from:  https://www.finam.ru/quote/moex/fees/publications/date/2022-12-01/2023-12-01\n"
     ]
    },
    {
     "name": "stderr",
     "output_type": "stream",
     "text": [
      "  4%|███▌                                                                           | 9/200 [16:13<6:12:11, 116.92s/it]"
     ]
    },
    {
     "name": "stdout",
     "output_type": "stream",
     "text": [
      "Getting news from:  https://www.finam.ru/quote/moex/fesh/publications/date/2022-12-01/2023-12-01\n"
     ]
    }
   ],
   "source": [
    "%%time \n",
    "\n",
    "# автоматизированны парсинг новостей\n",
    "\n",
    "df_files = pd.read_parquet('tickers_files.parquet')\n",
    "parser = FinamNewsParser()\n",
    "\n",
    "BLACK_LIST = []\n",
    "\n",
    "for ticker in tqdm(df_files.values[30:]):\n",
    "    if ticker[0] != 'SBER':\n",
    "        try:\n",
    "            news = parser.collect_news(ticker[0].lower(), start='2022-12-01', end='2023-12-01')\n",
    "\n",
    "            with open('./news_data/' + ticker[0].lower() + '.pickle', 'wb') as f:\n",
    "                pickle.dump(news, f)\n",
    "        except:\n",
    "            BLACK_LIST.append(ticker[0])\n",
    "            print(ticker[0] + ' НОВОСТИ НЕ РАСПАРСИЛО') \n",
    "\n",
    "print(BLACK_LIST)"
   ]
  },
  {
   "cell_type": "code",
   "execution_count": null,
   "id": "bae064b6-3d63-4737-a619-c8e530c39520",
   "metadata": {},
   "outputs": [],
   "source": []
  }
 ],
 "metadata": {
  "kernelspec": {
   "display_name": "Python 3 (ipykernel)",
   "language": "python",
   "name": "python3"
  },
  "language_info": {
   "codemirror_mode": {
    "name": "ipython",
    "version": 3
   },
   "file_extension": ".py",
   "mimetype": "text/x-python",
   "name": "python",
   "nbconvert_exporter": "python",
   "pygments_lexer": "ipython3",
   "version": "3.10.1"
  }
 },
 "nbformat": 4,
 "nbformat_minor": 5
}
